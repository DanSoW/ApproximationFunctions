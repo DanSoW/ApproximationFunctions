{
 "cells": [
  {
   "cell_type": "code",
   "execution_count": 10,
   "id": "92d84c62",
   "metadata": {},
   "outputs": [
    {
     "name": "stdout",
     "output_type": "stream",
     "text": [
      "Using matplotlib backend: Qt5Agg\n"
     ]
    }
   ],
   "source": [
    "%matplotlib\n",
    "from mpl_toolkits.mplot3d import Axes3D\n",
    "import matplotlib.pyplot as plt\n",
    "import numpy as np\n",
    "import math\n",
    "import scipy.special\n",
    "from numpy.random import uniform\n",
    "from sklearn.model_selection import train_test_split\n"
   ]
  },
  {
   "cell_type": "code",
   "execution_count": 2,
   "id": "3676fafb",
   "metadata": {},
   "outputs": [],
   "source": [
    "class NeuralNetwork:\n",
    "    def __init__(self, rate, inputs, hiddens, outputs):\n",
    "        #добавляем 1 вход под bias\n",
    "        self.i_count=inputs+1\n",
    "        self.h_count=hiddens \n",
    "        self.o_count=outputs\n",
    "        #заполняем массивы весов рандомом\n",
    "        self.w_ih = np.random.normal(0.0, pow(self.h_count, -0.5), (self.h_count, self.i_count))\n",
    "        self.w_ho = np.random.normal(0.0, pow(self.o_count, -0.5), (self.o_count, self.h_count))\n",
    "        #learning rate и сигмоид \n",
    "        self.lr = rate\n",
    "        self.activation_function = lambda x: scipy.special.expit(x)\n",
    "        \n",
    "    def train(self, inputs_list, targets_list):\n",
    "        #добавляем 1 вход под bias\n",
    "        inputs_list=np.concatenate((inputs_list,[1]), axis=0)\n",
    "        #вектор-столбцы входных данных и правильных ответов\n",
    "        inputs = np.array(inputs_list, ndmin=2).T \n",
    "        targets = np.array(targets_list, ndmin=2).T\n",
    "        #прямое распространение. сигмоид и линеар.\n",
    "        hid_results = self.activation_function(np.dot(self.w_ih, inputs))\n",
    "        out_results = np.dot(self.w_ho, hid_results)\n",
    "        \n",
    "        #ошибки вывода\n",
    "        out_errors = (targets - out_results)\n",
    "        #ошибки скрытого слоя\n",
    "        hid_errors = np.dot(self.w_ho.T, out_errors)\n",
    "        #поправки для весов скрытый-выход\n",
    "        self.w_ho += self.lr * np.dot(out_errors, np.transpose(hid_results))\n",
    "        #поправки для весов вход-скрытый\n",
    "        self.w_ih += self.lr * np.dot((hid_errors * hid_results * (1.0 - hid_results)), np.transpose(inputs))\n",
    "        \n",
    "    def query(self, inputs_list):\n",
    "        #добавляем 1 вход под bias\n",
    "        inputs_list=np.concatenate((inputs_list,[1]), axis=0)\n",
    "        #вектор-столбец входных данных\n",
    "        inputs = np.array(inputs_list, ndmin=2).T \n",
    "        #прямое распространение. сигмоид и линеар.\n",
    "        hid_results = self.activation_function(np.dot(self.w_ih, inputs))\n",
    "        out_results = np.dot(self.w_ho, hid_results)\n",
    "        return out_results\n",
    "    \n",
    "    def set_lr(self, rate):\n",
    "        self.lr = rate"
   ]
  },
  {
   "cell_type": "code",
   "execution_count": 36,
   "id": "98db5274",
   "metadata": {},
   "outputs": [],
   "source": [
    "net = NeuralNetwork(rate=0.01, inputs=1, hiddens=50, outputs=1)"
   ]
  },
  {
   "cell_type": "code",
   "execution_count": 37,
   "id": "149f9c8a",
   "metadata": {},
   "outputs": [],
   "source": [
    "a = 0.5\n",
    "b = 1.3\n",
    "\n",
    "def ApproxFunc(x):\n",
    "    return a * (b ** x)"
   ]
  },
  {
   "cell_type": "code",
   "execution_count": 38,
   "id": "87a8638d",
   "metadata": {},
   "outputs": [],
   "source": [
    "# Формирование тренировочной и тестовой выборки\n",
    "\n",
    "pcenter = 0\n",
    "prange = 10\n",
    "\n",
    "train_count = 3000\n",
    "test_count = 500\n",
    "\n",
    "period_train = np.arange((pcenter - (prange / 2)), (pcenter + (prange / 2)), (prange / train_count))\n",
    "period_train_trg = ApproxFunc(period_train)\n",
    "period_test = np.arange((pcenter - (prange / 2)), (pcenter + (prange / 2)), (prange / test_count))\n",
    "period_test_trg = ApproxFunc(period_test)\n"
   ]
  },
  {
   "cell_type": "code",
   "execution_count": 39,
   "id": "2a51e4c2",
   "metadata": {},
   "outputs": [
    {
     "name": "stdout",
     "output_type": "stream",
     "text": [
      "[[0.01489688]]\n",
      "[[0.00237839]]\n",
      "[[0.00367578]]\n",
      "[[0.00144336]]\n",
      "[[0.00117291]]\n",
      "[[0.00109385]]\n",
      "[[0.00125136]]\n",
      "[[0.00187532]]\n",
      "[[0.00098169]]\n",
      "[[0.00078472]]\n",
      "[[0.0007265]]\n",
      "[[0.00075237]]\n",
      "[[0.00089477]]\n",
      "[[0.00070557]]\n",
      "[[0.00075225]]\n",
      "[[0.00072681]]\n",
      "[[0.00065516]]\n",
      "[[0.00053671]]\n"
     ]
    },
    {
     "ename": "KeyboardInterrupt",
     "evalue": "",
     "output_type": "error",
     "traceback": [
      "\u001b[1;31m---------------------------------------------------------------------------\u001b[0m",
      "\u001b[1;31mKeyboardInterrupt\u001b[0m                         Traceback (most recent call last)",
      "\u001b[1;32m<ipython-input-39-e86706caf41f>\u001b[0m in \u001b[0;36m<module>\u001b[1;34m\u001b[0m\n\u001b[0;32m     20\u001b[0m \u001b[1;33m\u001b[0m\u001b[0m\n\u001b[0;32m     21\u001b[0m     \u001b[0mplt\u001b[0m\u001b[1;33m.\u001b[0m\u001b[0mplot\u001b[0m\u001b[1;33m(\u001b[0m\u001b[0mperiod_test\u001b[0m\u001b[1;33m,\u001b[0m \u001b[0mtest_results\u001b[0m\u001b[1;33m,\u001b[0m \u001b[1;34m'red'\u001b[0m\u001b[1;33m)\u001b[0m\u001b[1;33m\u001b[0m\u001b[1;33m\u001b[0m\u001b[0m\n\u001b[1;32m---> 22\u001b[1;33m     \u001b[0mplt\u001b[0m\u001b[1;33m.\u001b[0m\u001b[0mpause\u001b[0m\u001b[1;33m(\u001b[0m\u001b[1;36m1\u001b[0m\u001b[1;33m)\u001b[0m\u001b[1;33m\u001b[0m\u001b[1;33m\u001b[0m\u001b[0m\n\u001b[0m\u001b[0;32m     23\u001b[0m     \u001b[0mprint\u001b[0m\u001b[1;33m(\u001b[0m\u001b[0mMSE\u001b[0m \u001b[1;33m/\u001b[0m \u001b[0mtest_count\u001b[0m\u001b[1;33m)\u001b[0m\u001b[1;33m\u001b[0m\u001b[1;33m\u001b[0m\u001b[0m\n",
      "\u001b[1;32mC:\\Anaconda3\\lib\\site-packages\\matplotlib\\pyplot.py\u001b[0m in \u001b[0;36mpause\u001b[1;34m(interval)\u001b[0m\n\u001b[0;32m    436\u001b[0m             \u001b[0mcanvas\u001b[0m\u001b[1;33m.\u001b[0m\u001b[0mdraw_idle\u001b[0m\u001b[1;33m(\u001b[0m\u001b[1;33m)\u001b[0m\u001b[1;33m\u001b[0m\u001b[1;33m\u001b[0m\u001b[0m\n\u001b[0;32m    437\u001b[0m         \u001b[0mshow\u001b[0m\u001b[1;33m(\u001b[0m\u001b[0mblock\u001b[0m\u001b[1;33m=\u001b[0m\u001b[1;32mFalse\u001b[0m\u001b[1;33m)\u001b[0m\u001b[1;33m\u001b[0m\u001b[1;33m\u001b[0m\u001b[0m\n\u001b[1;32m--> 438\u001b[1;33m         \u001b[0mcanvas\u001b[0m\u001b[1;33m.\u001b[0m\u001b[0mstart_event_loop\u001b[0m\u001b[1;33m(\u001b[0m\u001b[0minterval\u001b[0m\u001b[1;33m)\u001b[0m\u001b[1;33m\u001b[0m\u001b[1;33m\u001b[0m\u001b[0m\n\u001b[0m\u001b[0;32m    439\u001b[0m     \u001b[1;32melse\u001b[0m\u001b[1;33m:\u001b[0m\u001b[1;33m\u001b[0m\u001b[1;33m\u001b[0m\u001b[0m\n\u001b[0;32m    440\u001b[0m         \u001b[0mtime\u001b[0m\u001b[1;33m.\u001b[0m\u001b[0msleep\u001b[0m\u001b[1;33m(\u001b[0m\u001b[0minterval\u001b[0m\u001b[1;33m)\u001b[0m\u001b[1;33m\u001b[0m\u001b[1;33m\u001b[0m\u001b[0m\n",
      "\u001b[1;32mC:\\Anaconda3\\lib\\site-packages\\matplotlib\\backends\\backend_qt5.py\u001b[0m in \u001b[0;36mstart_event_loop\u001b[1;34m(self, timeout)\u001b[0m\n\u001b[0;32m    432\u001b[0m             timer = QtCore.QTimer.singleShot(int(timeout * 1000),\n\u001b[0;32m    433\u001b[0m                                              event_loop.quit)\n\u001b[1;32m--> 434\u001b[1;33m         \u001b[0mevent_loop\u001b[0m\u001b[1;33m.\u001b[0m\u001b[0mexec_\u001b[0m\u001b[1;33m(\u001b[0m\u001b[1;33m)\u001b[0m\u001b[1;33m\u001b[0m\u001b[1;33m\u001b[0m\u001b[0m\n\u001b[0m\u001b[0;32m    435\u001b[0m \u001b[1;33m\u001b[0m\u001b[0m\n\u001b[0;32m    436\u001b[0m     \u001b[1;32mdef\u001b[0m \u001b[0mstop_event_loop\u001b[0m\u001b[1;33m(\u001b[0m\u001b[0mself\u001b[0m\u001b[1;33m,\u001b[0m \u001b[0mevent\u001b[0m\u001b[1;33m=\u001b[0m\u001b[1;32mNone\u001b[0m\u001b[1;33m)\u001b[0m\u001b[1;33m:\u001b[0m\u001b[1;33m\u001b[0m\u001b[1;33m\u001b[0m\u001b[0m\n",
      "\u001b[1;31mKeyboardInterrupt\u001b[0m: "
     ]
    }
   ],
   "source": [
    "epochs = 100\n",
    "plt.ion()\n",
    "\n",
    "for e in range(epochs):\n",
    "    np.random.shuffle(period_train)\n",
    "    period_train_trg = ApproxFunc(period_train)\n",
    "    \n",
    "    for x in range(train_count):\n",
    "        net.train([period_train[x]], [period_train_trg[x]])\n",
    "        \n",
    "    plt.clf()\n",
    "    plt.plot(period_test, period_test_trg, 'blue')\n",
    "    MSE = 0\n",
    "    test_results = np.zeros(test_count)\n",
    "    \n",
    "    for x in range(test_count):\n",
    "        result = net.query([period_test[x]])\n",
    "        MSE += (ApproxFunc(period_test[x]) - result) ** 2\n",
    "        test_results[x] = result\n",
    "    \n",
    "    plt.plot(period_test, test_results, 'red')\n",
    "    plt.pause(1)\n",
    "    print(MSE / test_count)"
   ]
  },
  {
   "cell_type": "code",
   "execution_count": null,
   "id": "241e3ad3",
   "metadata": {},
   "outputs": [],
   "source": []
  }
 ],
 "metadata": {
  "kernelspec": {
   "display_name": "Python 3",
   "language": "python",
   "name": "python3"
  },
  "language_info": {
   "codemirror_mode": {
    "name": "ipython",
    "version": 3
   },
   "file_extension": ".py",
   "mimetype": "text/x-python",
   "name": "python",
   "nbconvert_exporter": "python",
   "pygments_lexer": "ipython3",
   "version": "3.8.8"
  }
 },
 "nbformat": 4,
 "nbformat_minor": 5
}
