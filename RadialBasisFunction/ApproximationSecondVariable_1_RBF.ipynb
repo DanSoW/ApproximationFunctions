{
 "cells": [
  {
   "cell_type": "code",
   "execution_count": 15,
   "id": "275e7229",
   "metadata": {},
   "outputs": [
    {
     "name": "stdout",
     "output_type": "stream",
     "text": [
      "Using matplotlib backend: Qt5Agg\n"
     ]
    }
   ],
   "source": [
    "%matplotlib\n",
    "from scipy import *  \n",
    "from scipy.linalg import norm, pinv  \n",
    "   \n",
    "from matplotlib import pyplot as plt"
   ]
  },
  {
   "cell_type": "code",
   "execution_count": 16,
   "id": "fd07c741",
   "metadata": {},
   "outputs": [],
   "source": [
    "class RBF:  \n",
    "       \n",
    "    def __init__(self, indim, numCenters, outdim):  \n",
    "        self.indim = indim  \n",
    "        self.outdim = outdim  \n",
    "        self.numCenters = numCenters  \n",
    "        # Здесь мы инициализируем центр, соответствующий скрытому нейрону RBF\n",
    "        self.centers = [random.uniform(-1, 1, indim) for i in range(numCenters)]  \n",
    "                 # Вот два важных параметра, которые определяют сеть RBF ...\n",
    "                 # Первый параметр представляет β, второй - вес соединения\n",
    "        self.beta = 8  \n",
    "        self.W = random.random((self.numCenters, self.outdim))  \n",
    "           \n",
    "    def _basisfunc(self, c, d):  \n",
    "        assert len(d) == self.indim  \n",
    "        return exp(-self.beta * norm(c-d)**2)  \n",
    "       \n",
    "    def _calcAct(self, X):  \n",
    "        # calculate activations of RBFs  \n",
    "        G = zeros((X.shape[0], self.numCenters), float)  \n",
    "        for ci, c in enumerate(self.centers):  \n",
    "            for xi, x in enumerate(X):  \n",
    "                G[xi,ci] = self._basisfunc(c, x)  \n",
    "        return G  \n",
    "         # Передавать значения x и y для обучения   \n",
    "    def train(self, X, Y):  \n",
    "        \"\"\" X: matrix of dimensions n x indim  \n",
    "            y: column vector of dimension n x 1 \"\"\"  \n",
    "           \n",
    "        # choose random center vectors from training set  \n",
    "        rnd_idx = random.permutation(X.shape[0])[:self.numCenters]  \n",
    "        self.centers = [X[i,:] for i in rnd_idx]  \n",
    "                 # Операционный центр: [76 21 58 61 2 1 64 77 34 33]   \n",
    "        print (\"center\", self.centers)  \n",
    "        # calculate activations of RBFs  \n",
    "        G = self._calcAct(X)  \n",
    "        print (G)  \n",
    "           \n",
    "        # calculate output weights (pseudoinverse)  \n",
    "        self.W = dot(pinv(G), Y)  \n",
    "           \n",
    "    def test(self, X):  \n",
    "        \"\"\" X: matrix of dimensions n x indim \"\"\"  \n",
    "           \n",
    "        G = self._calcAct(X)  \n",
    "        Y = dot(G, self.W)  \n",
    "        return Y"
   ]
  },
  {
   "cell_type": "code",
   "execution_count": 17,
   "id": "1fc68101",
   "metadata": {},
   "outputs": [],
   "source": [
    "def Func(x, y):\n",
    "    z = (np.sin(x) * np.exp((1 - np.cos(y)) ** 2) + np.cos(y) * np.exp((1 - np.sin(x)) ** 2) + (x - y) ** 2)\n",
    "    return z"
   ]
  },
  {
   "cell_type": "code",
   "execution_count": 18,
   "id": "e6bb1121",
   "metadata": {},
   "outputs": [
    {
     "name": "stdout",
     "output_type": "stream",
     "text": [
      "center [array([-4.6, -2.7]), array([-1.5,  0.5]), array([ 4. , -0.9]), array([-2. ,  1.7]), array([-1.2, -0.8]), array([ 0.3, -2.8]), array([0.7, 1.8]), array([-4.6, -3.9]), array([-3. ,  4.7]), array([-2.7, -2.5]), array([ 0.6, -3. ]), array([1.9, 1. ]), array([ 3.9, -2.1]), array([-3.7,  2.7]), array([ 0.8, -3.7]), array([0.5, 2.9]), array([-2.1,  0.5]), array([-1.7, -3.7]), array([ 1.9, -2.3]), array([-4.2,  4.1]), array([-1.8,  4.3]), array([4.6, 4.7]), array([3.3, 3.2]), array([ 0.8, -2.9]), array([-3.6,  0.6]), array([ 3.3, -0.1]), array([-3.2,  1.1]), array([-1.4, -4. ]), array([-4.4,  4.8]), array([1.1, 3.4]), array([-2.9, -2.3]), array([2.2, 3.7]), array([-3. , -1.6]), array([-2.2,  2.2]), array([1.7, 4.4]), array([-4.8, -1.6]), array([-0.3, -2.4]), array([ 2.7, -3.3]), array([4. , 0.1]), array([1.6, 4.5]), array([2.1, 4.6]), array([-1.3, -3.3]), array([ 3.7, -3. ]), array([1.6, 2.4]), array([3.8, 3.2]), array([1.4, 4. ]), array([-3.2, -3.8]), array([1.9, 2.1]), array([-3.5,  0.8]), array([ 2.1, -2.4]), array([-4.3,  3.1]), array([-0.2, -2.5]), array([1.8, 2.6]), array([0. , 4.4]), array([2.7, 0.6]), array([ 2.9, -0.7]), array([2.4, 0.4]), array([0.7, 1.4]), array([2.7, 1.2]), array([-1.1,  4.5]), array([-5. , -0.3]), array([ 2.4, -0.9]), array([-4. , -1.1]), array([ 3.3, -2.3]), array([-3.5,  3.6]), array([4.4, 4.6]), array([-1.6, -3.4]), array([ 4.3, -2.4]), array([-1.2,  3.6]), array([1.2, 3.4]), array([-1.3, -3. ]), array([-4.9, -1.4]), array([2.7, 2.7]), array([-3.8, -2.8]), array([2.3, 4. ]), array([2.2, 4.7]), array([0.2, 0.6]), array([-3.1, -3.8]), array([-0.9, -2.2]), array([-1.6,  3.8]), array([-1.5,  2. ]), array([-0.4, -4.5]), array([-4.1,  0.8]), array([2.5, 3.7]), array([-3.4,  2.3]), array([-2.9, -1.9]), array([-1. , -1.2]), array([-1.5, -3.3]), array([-0.3,  4.4]), array([4.2, 3.5]), array([3.2, 3.5]), array([4.1, 1.6]), array([ 1.2, -0.1]), array([-2.9, -3.6]), array([2.6, 2.1]), array([4.5, 1.9]), array([-5. , -2.9]), array([ 4.2, -2.9]), array([ 2.9, -4. ]), array([3.4, 0.6]), array([4., 1.]), array([-0.8, -2.2]), array([-1.9, -1. ]), array([3.1, 4.7]), array([-2.5, -0.1]), array([1.7, 4.5]), array([4.1, 3.2]), array([1.8, 4.3]), array([-3.8,  3.2]), array([3.3, 2.2]), array([-3. , -0.4]), array([1.9, 3.6]), array([3.8, 1. ]), array([ 3.7, -1. ]), array([ 0.1, -3.1]), array([ 4.8, -4.7]), array([1.6, 3.2]), array([-4.8,  0.3]), array([-0.1, -2.7]), array([-1.3, -3.9]), array([ 3., -1.]), array([-4.6, -0.9]), array([4.1, 0.6]), array([ 1.2, -3.9]), array([-4.4,  3.2]), array([ 3.7, -3.3]), array([1.4, 1.6]), array([-3.1,  2.2]), array([0.7, 3. ]), array([-0.8,  2. ]), array([3.1, 0.2]), array([-4.5,  2.5]), array([0.4, 2.9]), array([4.1, 1.7]), array([4.4, 1.1]), array([-4.8,  2.4]), array([ 3. , -0.1]), array([ 3.3, -1.9]), array([-4.1, -3.7]), array([-0.1, -2.5]), array([-1.7,  1.2]), array([-3.5,  2.7]), array([-3.3, -2.6]), array([-2.7, -4.7]), array([2.1, 3.5]), array([-1.4,  2.7]), array([2.9, 0.5]), array([-2.3,  3.1]), array([-2. , -3.4]), array([ 4.5, -1. ]), array([0.2, 1.6]), array([-2.7,  4.6]), array([1.5, 2.1]), array([ 3.3, -2.7]), array([-1. , -4.8]), array([-3.2, -4.5]), array([ 4.3, -4.7]), array([-3.9, -1.4]), array([-2.6,  1.7]), array([-4.4,  4.6]), array([-3.7, -4.4]), array([-0.8, -4.2]), array([3.4, 3.9]), array([-2. , -1.7]), array([-3.8, -3.4]), array([0.7, 2.5]), array([4. , 3.3]), array([2.4, 2.2]), array([4.8, 3.9]), array([-0.9, -0.8]), array([-4.9, -4.7]), array([4.9, 4.6]), array([-1.4, -3.6]), array([-1.3,  4.6]), array([-0.2,  2.3]), array([ 2.4, -1.5]), array([-4.9,  0.3]), array([-4.7,  2.8]), array([4.5, 2.6]), array([-2. , -1.5]), array([-2.9,  0.3]), array([4.2, 4.6]), array([-1.1, -3.5]), array([-1.4, -3.3]), array([1.5, 2.3]), array([-0.3,  0.6]), array([-3.7, -3.4]), array([2.6, 0.6]), array([3.3, 1.7]), array([-2.9,  4.6]), array([-4. ,  1.9]), array([ 2.2, -1.2]), array([4.6, 3.8]), array([-3.6, -0.6]), array([2.1, 3.7]), array([-0.1,  2.7]), array([ 3. , -2.1]), array([-1.1, -2.3]), array([ 1.7, -0.2]), array([-0.3,  4. ]), array([1.2, 4. ]), array([-0.3, -1.7]), array([-2.1,  3. ]), array([ 4.7, -1. ]), array([-2.7, -3.3]), array([ 3.4, -1.7]), array([ 3.9, -1.3]), array([-4.2,  3. ]), array([-2.3, -3. ]), array([-3.5, -1.4]), array([ 0.2, -0.8]), array([-0.2, -3.9]), array([3.2, 2.1]), array([-1.3,  1.8]), array([-3.7,  2.2]), array([ 0.7, -2.8]), array([2.2, 0.7]), array([ 2.2, -0.3]), array([-2.4,  0.1]), array([ 2.7, -2.7]), array([-4.5, -1.9]), array([-0.4, -4.1]), array([ 3.5, -2.2]), array([-1.4,  4. ]), array([ 2.1, -1.3]), array([-4.4,  3.4]), array([-1. , -1.4]), array([3.6, 0.6]), array([-1. ,  2.6]), array([-3.7,  0.6]), array([-2.6, -4.3]), array([-1.2,  4.3]), array([-3.7, -0.7]), array([ 3.6, -3.5]), array([-2.9,  2. ]), array([ 1.5, -3.7]), array([-4.1, -3.1]), array([-2. ,  0.8]), array([ 2.9, -3.5]), array([-0.1, -0.2]), array([1.7, 1. ]), array([0.9, 4. ]), array([1.6, 2.9]), array([-1.7, -0.7]), array([-2.6,  3.5]), array([ 1.4, -4.7]), array([-3.3,  0.8]), array([ 0.5, -0.3]), array([0.2, 4.6]), array([-0.7,  1.7]), array([2.1, 1.7]), array([-0.8, -3.9]), array([ 4.5, -1.3]), array([-1.9, -2. ]), array([ 3.9, -3.7]), array([4.9, 2.7]), array([ 3.2, -2.3]), array([-0.3, -4.8]), array([-1.4, -4.8]), array([0. , 1.3]), array([0.6, 0.7]), array([ 1.8, -2. ]), array([-4.6, -4.5]), array([ 4.5, -2.3]), array([3.8, 0.2]), array([-3.9,  0.2]), array([-4.8, -4. ]), array([-2.3,  4.5]), array([1.1, 1.9]), array([ 4., -2.]), array([2., 1.]), array([-0.7,  1.4]), array([-1.3,  1.1]), array([0.9, 1.7]), array([-0.9,  4.3]), array([ 3.3, -1.3]), array([-1.5,  3.6]), array([-3.3,  0. ]), array([-2.4,  3.5]), array([4.3, 0.6]), array([4.6, 0.4]), array([-0.7,  3.3]), array([-2.9, -1.2]), array([ 2.5, -3.5]), array([1.7, 0.4]), array([-1., -5.]), array([ 0.5, -4.1]), array([-1.8,  2.3]), array([-1.9, -4.3]), array([-0.4, -4.4]), array([-0.8, -1.5]), array([-2.8, -4.1]), array([ 2.6, -0.1]), array([-4. , -2.1]), array([ 1.4, -4.3]), array([2.7, 0. ]), array([-0.6, -0.5]), array([0.5, 4.6]), array([ 3.8, -3.4]), array([-2.2, -2.7]), array([-4.9, -2.6]), array([-2.1, -2.8]), array([2.8, 3.8]), array([-3.7,  0.4]), array([ 4.9, -4.5]), array([-2.4,  2.9]), array([-4.1, -0.7]), array([3.2, 0.3]), array([3.5, 1.2]), array([-4.1, -3. ]), array([ 0.4, -2.4]), array([-1.3, -4. ]), array([-0.4,  0.2]), array([-3.7, -0.5]), array([-3.3, -3.3]), array([-1.4,  4.1]), array([-4.4,  0.6]), array([ 0.7, -2.7]), array([ 2.8, -0.1]), array([-1.1, -0.5]), array([2.3, 3.6]), array([ 0.9, -3. ]), array([1.3, 3.7]), array([4.9, 1.4]), array([-3.4,  4.6]), array([-4.3,  1.4]), array([ 0.1, -3.6]), array([-4. , -2.5]), array([ 1.1, -2.1]), array([ 4.8, -4.8]), array([3.2, 2.7]), array([4.3, 3.7]), array([3.8, 1.1]), array([ 0.5, -4.9]), array([ 0.7, -1.5]), array([-3.6,  1.4]), array([ 1.8, -4.2]), array([ 3.5, -3. ]), array([ 2.2, -1.4]), array([-2.9, -4.7]), array([-1.3, -2. ]), array([-2.8,  1.2]), array([-0.9,  4.9]), array([ 3., -3.]), array([-4.1,  3.7]), array([0.6, 4.7]), array([0.9, 0.3]), array([-0.9, -0.1]), array([1.5, 3.1]), array([-4.8,  4.8]), array([1.8, 1.7]), array([ 0. , -1.6]), array([ 4.2, -1.2]), array([2.1, 0. ]), array([-0.3, -2.9]), array([-1.8, -4.9]), array([ 2.2, -4. ]), array([-2.3,  3.9]), array([2.4, 3. ]), array([-1.4,  0.7]), array([-0.3,  2.6]), array([ 2.3, -2. ]), array([ 2.7, -0.8]), array([-3.1,  3.6]), array([3.1, 3.7]), array([-3.4,  1.3]), array([4.8, 3.1]), array([ 0.4, -4.6]), array([-0.6, -2.9]), array([2.9, 4.3]), array([-0.4,  2.4]), array([ 4.4, -1.6]), array([-2.1,  3.7]), array([-4.9,  0.7]), array([ 2.7, -1.8]), array([-0.3, -1.3]), array([-3.8, -4.1]), array([-1.3, -3.8]), array([-3.7,  2. ]), array([ 4.4, -3.1]), array([4. , 4.9]), array([3.5, 0.5]), array([ 4.9, -1.8]), array([-3.4,  0.3]), array([2.8, 4.2]), array([3.3, 0.8]), array([ 4.4, -2. ]), array([-1.9, -0.1]), array([4.6, 3.7]), array([4.2, 2.5]), array([-5. ,  3.1]), array([ 4. , -3.3]), array([-3.4,  2.4]), array([-4.1, -1.1]), array([ 4.9, -3.6]), array([-4.5,  1. ]), array([ 2.6, -2.1]), array([0.6, 3.4]), array([ 2.9, -3.6]), array([3.6, 3.5]), array([1.2, 1.5]), array([4.2, 0.4]), array([0.7, 0.6]), array([-1.8, -2.7]), array([4.8, 4.5]), array([ 0. , -1.1]), array([1.7, 3.6]), array([-3.3,  0.3]), array([-4.3,  3.8]), array([ 2.4, -4.7]), array([0.8, 3.6]), array([-2.5,  0.4]), array([0.3, 1. ]), array([-4.2,  1.3]), array([-5. ,  4.7]), array([-0.2,  3.7]), array([3.4, 1.5]), array([-0.4, -0.9]), array([ 4. , -0.2]), array([ 2.4, -1.8]), array([4.1, 2.1]), array([ 1. , -3.2]), array([ 2.4, -0.2]), array([2.9, 0.6]), array([-3. , -3.5]), array([-5.,  3.]), array([ 2.5, -3.8]), array([-2.7, -4.2]), array([2.6, 1.1]), array([ 4.7, -3.9]), array([-0.4,  2.8]), array([ 1.5, -0.2]), array([2.6, 0.2]), array([ 3.4, -0.3]), array([-4. , -3.4]), array([-2.9, -0.8]), array([1. , 3.2]), array([ 2.5, -2.8]), array([-0.6, -4.2]), array([-5., -5.]), array([0.8, 2.1]), array([ 3.6, -2.8]), array([ 2., -1.]), array([ 2. , -1.4]), array([-0.4,  4.9]), array([-1.9, -1.6]), array([ 2.8, -1.4]), array([-2.1, -4. ]), array([-4.5,  2.8]), array([ 3.2, -2. ]), array([-0.4,  1.8]), array([-2.4, -3.3]), array([-4.6,  4.7]), array([1.9, 4.9]), array([2.8, 4.5]), array([-2.7,  3.8]), array([ 3.1, -0.9]), array([ 0.6, -0.8]), array([ 0.4, -4.5]), array([-0.7, -0.3]), array([-0.1,  2.8]), array([-1.5, -2.4]), array([-1.3, -3.7]), array([-0.6, -3.6]), array([ 3.4, -2.8]), array([-5. ,  3.3]), array([-1.2, -2. ]), array([4.9, 1.6]), array([-0.3,  3.3]), array([ 2.8, -1.6]), array([0.2, 2.9]), array([-0.4, -4.6]), array([ 4.2, -4.4]), array([-3.4,  1. ]), array([ 2.8, -1.5]), array([-2.7, -1.6]), array([ 2.2, -2.6]), array([ 1.6, -2.6]), array([3.1, 0.3]), array([0.3, 2. ]), array([-3.6,  4.1]), array([3.2, 1.1]), array([ 0.5, -3.6]), array([ 3.8, -0.4]), array([-4.5,  0.7]), array([ 4.1, -2. ]), array([ 4.3, -1.1]), array([3.7, 4.7]), array([-3.7, -0.1]), array([ 4.8, -2.9]), array([ 0.7, -1. ]), array([3.9, 0. ]), array([2.3, 2.8]), array([1.4, 2.1]), array([-4.9,  1.6]), array([-1.1, -0.2]), array([-2.6,  3. ]), array([-4.7, -0.7]), array([3.4, 0.2]), array([-4.4,  4.4])]\n"
     ]
    },
    {
     "name": "stderr",
     "output_type": "stream",
     "text": [
      "<ipython-input-16-feb42bcda70e>:20: DeprecationWarning: scipy.zeros is deprecated and will be removed in SciPy 2.0.0, use numpy.zeros instead\n",
      "  G = zeros((X.shape[0], self.numCenters), float)\n",
      "<ipython-input-16-feb42bcda70e>:16: DeprecationWarning: scipy.exp is deprecated and will be removed in SciPy 2.0.0, use numpy.exp instead\n",
      "  return exp(-self.beta * norm(c-d)**2)\n"
     ]
    },
    {
     "name": "stdout",
     "output_type": "stream",
     "text": [
      "[[1.16080853e-019 2.18713783e-148 0.00000000e+000 ... 2.79555609e-065\n",
      "  0.00000000e+000 5.69047506e-309]\n",
      " [4.24835426e-018 1.33944238e-144 0.00000000e+000 ... 2.50998246e-062\n",
      "  0.00000000e+000 1.78728567e-302]\n",
      " [1.32493246e-016 6.99012272e-141 0.00000000e+000 ... 1.92037501e-059\n",
      "  0.00000000e+000 4.78357190e-296]\n",
      " ...\n",
      " [0.00000000e+000 2.52782430e-204 1.69813470e-112 ... 0.00000000e+000\n",
      "  6.71418429e-079 1.54978001e-301]\n",
      " [0.00000000e+000 2.81542788e-207 2.01349252e-116 ... 0.00000000e+000\n",
      "  4.62731888e-082 8.85248388e-302]\n",
      " [0.00000000e+000 2.67211296e-210 2.03442080e-120 ... 0.00000000e+000\n",
      "  2.71755588e-085 4.30896650e-302]]\n"
     ]
    },
    {
     "name": "stderr",
     "output_type": "stream",
     "text": [
      "<ipython-input-16-feb42bcda70e>:40: DeprecationWarning: scipy.dot is deprecated and will be removed in SciPy 2.0.0, use numpy.dot instead\n",
      "  self.W = dot(pinv(G), Y)\n",
      "<ipython-input-16-feb42bcda70e>:46: DeprecationWarning: scipy.dot is deprecated and will be removed in SciPy 2.0.0, use numpy.dot instead\n",
      "  Y = dot(G, self.W)\n"
     ]
    }
   ],
   "source": [
    "import numpy as np\n",
    "xy_set = []\n",
    "z_set = []\n",
    "d = 10\n",
    "\n",
    "for x in range(-5*d, 5*d):\n",
    "    for y in range(-5*d, 5*d):\n",
    "        xy_set += [[x/d, y/d]]\n",
    "        z_set += [Func(x/d, y/d)]\n",
    "        \n",
    "xy_set = np.array(xy_set)\n",
    "z_set = np.array(z_set)\n",
    "\n",
    "plt.pause(5)\n",
    "\n",
    "rbf = RBF(2, 500, 1)  \n",
    "rbf.train(xy_set, z_set)  \n",
    "z = rbf.test(xy_set)  \n",
    "         \n",
    "fig = plt.figure()\n",
    "ax = fig.gca(projection='3d') \n",
    "ax.scatter(xy_set[:, 0], xy_set[:, 1], z_set, c='blue', marker='o')\n",
    "       \n",
    "ax.scatter(xy_set[:, 0], xy_set[:, 1], z, c='red', marker='o') \n",
    "plt.show()"
   ]
  },
  {
   "cell_type": "code",
   "execution_count": null,
   "id": "eb7ed843",
   "metadata": {},
   "outputs": [],
   "source": []
  }
 ],
 "metadata": {
  "kernelspec": {
   "display_name": "Python 3",
   "language": "python",
   "name": "python3"
  },
  "language_info": {
   "codemirror_mode": {
    "name": "ipython",
    "version": 3
   },
   "file_extension": ".py",
   "mimetype": "text/x-python",
   "name": "python",
   "nbconvert_exporter": "python",
   "pygments_lexer": "ipython3",
   "version": "3.8.8"
  }
 },
 "nbformat": 4,
 "nbformat_minor": 5
}
